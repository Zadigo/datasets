{
 "cells": [
  {
   "cell_type": "code",
   "execution_count": 21,
   "id": "f2b52357",
   "metadata": {},
   "outputs": [],
   "source": [
    "import os\n",
    "import pandas\n",
    "import shutil\n",
    "import pathlib\n",
    "from datasets.utils import TMP_DIR"
   ]
  },
  {
   "cell_type": "code",
   "execution_count": 31,
   "id": "310bedb5",
   "metadata": {},
   "outputs": [],
   "source": [
    "current_path = pathlib.Path('.').absolute()"
   ]
  },
  {
   "cell_type": "code",
   "execution_count": 22,
   "id": "967b8640",
   "metadata": {},
   "outputs": [],
   "source": [
    "black_women = list(os.walk(TMP_DIR / 'black'))\n",
    "\n",
    "white_women = list(os.walk(TMP_DIR / 'white'))"
   ]
  },
  {
   "cell_type": "code",
   "execution_count": 23,
   "id": "61eae6ed",
   "metadata": {},
   "outputs": [],
   "source": [
    "temp_destination_folder = TMP_DIR / 'faces'"
   ]
  },
  {
   "cell_type": "code",
   "execution_count": 24,
   "id": "e8cbae17",
   "metadata": {},
   "outputs": [],
   "source": [
    "def rename_and_copy(prefix, items):\n",
    "    root, dirs, files = items[0]\n",
    "    root = pathlib.Path(root)\n",
    "\n",
    "    for i, file in enumerate(files):\n",
    "        path = root.joinpath(file)\n",
    "        filename = f'{prefix}-face-{i + 1}{path.suffix}'\n",
    "        shutil.copy2(path, temp_destination_folder.joinpath(filename))\n"
   ]
  },
  {
   "cell_type": "code",
   "execution_count": 28,
   "id": "966f830b",
   "metadata": {},
   "outputs": [],
   "source": [
    "rename_and_copy('b', black_women)\n",
    "rename_and_copy('w', white_women)"
   ]
  },
  {
   "cell_type": "code",
   "execution_count": 33,
   "id": "6b411d33",
   "metadata": {},
   "outputs": [
    {
     "data": {
      "text/plain": [
       "'d:\\\\personnal\\\\datasets\\\\faces\\\\faces.zip'"
      ]
     },
     "execution_count": 33,
     "metadata": {},
     "output_type": "execute_result"
    }
   ],
   "source": [
    "shutil.make_archive('faces', 'zip', root_dir=temp_destination_folder)"
   ]
  }
 ],
 "metadata": {
  "kernelspec": {
   "display_name": "Python 3",
   "language": "python",
   "name": "python3"
  },
  "language_info": {
   "codemirror_mode": {
    "name": "ipython",
    "version": 3
   },
   "file_extension": ".py",
   "mimetype": "text/x-python",
   "name": "python",
   "nbconvert_exporter": "python",
   "pygments_lexer": "ipython3",
   "version": "3.13.1"
  }
 },
 "nbformat": 4,
 "nbformat_minor": 5
}
