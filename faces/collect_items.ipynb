{
 "cells": [
  {
   "cell_type": "code",
   "execution_count": 51,
   "id": "f2b52357",
   "metadata": {},
   "outputs": [],
   "source": [
    "import os\n",
    "import pandas\n",
    "import shutil\n",
    "import pathlib\n",
    "from datasets.utils import TMP_DIR"
   ]
  },
  {
   "cell_type": "code",
   "execution_count": 52,
   "id": "310bedb5",
   "metadata": {},
   "outputs": [],
   "source": [
    "current_path = pathlib.Path('.').absolute()"
   ]
  },
  {
   "cell_type": "code",
   "execution_count": 53,
   "id": "967b8640",
   "metadata": {},
   "outputs": [],
   "source": [
    "black_women = list(os.walk(TMP_DIR / 'black'))\n",
    "\n",
    "white_women = list(os.walk(TMP_DIR / 'white'))"
   ]
  },
  {
   "cell_type": "code",
   "execution_count": 54,
   "id": "61eae6ed",
   "metadata": {},
   "outputs": [],
   "source": [
    "temp_destination_folder = TMP_DIR / 'faces'"
   ]
  },
  {
   "cell_type": "markdown",
   "id": "8a625e82",
   "metadata": {},
   "source": [
    "Analyse the images from the dataset in order to get certain details useful for machine learning"
   ]
  },
  {
   "cell_type": "code",
   "execution_count": 55,
   "id": "ea680d78",
   "metadata": {},
   "outputs": [],
   "source": [
    "from sklearn.cluster import KMeans\n",
    "from PIL import Image\n",
    "import numpy as np\n",
    "import cv2"
   ]
  },
  {
   "cell_type": "code",
   "execution_count": 56,
   "id": "eec007e0",
   "metadata": {},
   "outputs": [],
   "source": [
    "def get_dominant_colors(path):\n",
    "    image = Image.open(path).convert('RGB')\n",
    "    image = image.resize((100, 100))\n",
    "\n",
    "    meta = np.array(image).reshape(-1, 3)\n",
    "\n",
    "    kmeans = KMeans(n_clusters=5, random_state=0)\n",
    "    kmeans.fit(meta)\n",
    "    colors = kmeans.cluster_centers_.astype(int)\n",
    "    return ['#{:02x}{:02x}{:02x}'.format(*color) for color in colors]"
   ]
  },
  {
   "cell_type": "code",
   "execution_count": 57,
   "id": "9d7c3138",
   "metadata": {},
   "outputs": [],
   "source": [
    "def get_color_histogram(path):\n",
    "    image_bgr = cv2.imread(path)\n",
    "\n",
    "    if image_bgr is None:\n",
    "        raise ValueError(\"Image not found at the specified path.\")\n",
    "\n",
    "    image_rgb = cv2.cvtColor(image_bgr, cv2.COLOR_BGR2RGB)\n",
    "    image_hsv = cv2.cvtColor(image_rgb, cv2.COLOR_RGB2HSV)\n",
    "\n",
    "    h_channel, s_channel, v_channel = cv2.split(image_hsv)\n",
    "    return [h_channel, s_channel, v_channel]\n",
    "    "
   ]
  },
  {
   "cell_type": "code",
   "execution_count": 58,
   "id": "e8cbae17",
   "metadata": {},
   "outputs": [],
   "source": [
    "def rename_and_copy(prefix, items, copy_files=True):\n",
    "    images_container = []\n",
    "\n",
    "    ethnicity = 'Black' if prefix == 'b' else 'White'\n",
    "\n",
    "    root, dirs, files = items[0]\n",
    "    root = pathlib.Path(root)\n",
    "\n",
    "    for i, file in enumerate(files):\n",
    "        path = root.joinpath(file)\n",
    "        filename = f'{prefix}-face-{i + 1}{path.suffix}'\n",
    "        \n",
    "        if copy_files:\n",
    "            shutil.copy2(path, temp_destination_folder.joinpath(filename))\n",
    "\n",
    "        # Image analysis\n",
    "        colors = get_dominant_colors(path)\n",
    "        # color_histogram = get_color_histogram(path)\n",
    "\n",
    "        images_container.append({\n",
    "            'name': filename, \n",
    "            'ethnicity': ethnicity,\n",
    "            'dominant_colors': colors,\n",
    "            # 'hsv': color_histogram\n",
    "        })\n",
    "\n",
    "    return images_container"
   ]
  },
  {
   "cell_type": "code",
   "execution_count": 59,
   "id": "966f830b",
   "metadata": {},
   "outputs": [],
   "source": [
    "data1 = rename_and_copy('b', black_women, copy_files=True)"
   ]
  },
  {
   "cell_type": "code",
   "execution_count": 60,
   "id": "9d12c3c0",
   "metadata": {},
   "outputs": [],
   "source": [
    "data2 = rename_and_copy('w', white_women, copy_files=True)"
   ]
  },
  {
   "cell_type": "code",
   "execution_count": 61,
   "id": "2ee700e6",
   "metadata": {},
   "outputs": [],
   "source": [
    "df1 = pandas.DataFrame(data1)\n",
    "df2 = pandas.DataFrame(data2)"
   ]
  },
  {
   "cell_type": "code",
   "execution_count": 62,
   "id": "43e27fb3",
   "metadata": {},
   "outputs": [],
   "source": [
    "df = pandas.concat([df1, df2])"
   ]
  },
  {
   "cell_type": "markdown",
   "id": "3114477d",
   "metadata": {},
   "source": [
    "## Explore data"
   ]
  },
  {
   "cell_type": "code",
   "execution_count": 63,
   "id": "b2beebb1",
   "metadata": {},
   "outputs": [
    {
     "data": {
      "text/html": [
       "<div>\n",
       "<style scoped>\n",
       "    .dataframe tbody tr th:only-of-type {\n",
       "        vertical-align: middle;\n",
       "    }\n",
       "\n",
       "    .dataframe tbody tr th {\n",
       "        vertical-align: top;\n",
       "    }\n",
       "\n",
       "    .dataframe thead th {\n",
       "        text-align: right;\n",
       "    }\n",
       "</style>\n",
       "<table border=\"1\" class=\"dataframe\">\n",
       "  <thead>\n",
       "    <tr style=\"text-align: right;\">\n",
       "      <th></th>\n",
       "      <th>name</th>\n",
       "      <th>ethnicity</th>\n",
       "      <th>dominant_colors</th>\n",
       "    </tr>\n",
       "  </thead>\n",
       "  <tbody>\n",
       "    <tr>\n",
       "      <th>0</th>\n",
       "      <td>b-face-1.jpg</td>\n",
       "      <td>Black</td>\n",
       "      <td>[#1f1819, #795437, #a8896e, #dc2c2a, #4e5363]</td>\n",
       "    </tr>\n",
       "    <tr>\n",
       "      <th>1</th>\n",
       "      <td>b-face-2.jpg</td>\n",
       "      <td>Black</td>\n",
       "      <td>[#323c41, #ad917d, #8c6446, #643922, #12181b]</td>\n",
       "    </tr>\n",
       "    <tr>\n",
       "      <th>2</th>\n",
       "      <td>b-face-3.jpg</td>\n",
       "      <td>Black</td>\n",
       "      <td>[#482f26, #fcfcfc, #9e776d, #764a3a, #1b1513]</td>\n",
       "    </tr>\n",
       "    <tr>\n",
       "      <th>3</th>\n",
       "      <td>b-face-4.jpg</td>\n",
       "      <td>Black</td>\n",
       "      <td>[#795648, #d8a07b, #f7f4f5, #372d2d, #b67d5c]</td>\n",
       "    </tr>\n",
       "    <tr>\n",
       "      <th>4</th>\n",
       "      <td>b-face-5.jpg</td>\n",
       "      <td>Black</td>\n",
       "      <td>[#120d0b, #ad6849, #d1896b, #7a452d, #efad90]</td>\n",
       "    </tr>\n",
       "    <tr>\n",
       "      <th>5</th>\n",
       "      <td>b-face-6.jpg</td>\n",
       "      <td>Black</td>\n",
       "      <td>[#543d3a, #171316, #bed0da, #6c6163, #332628]</td>\n",
       "    </tr>\n",
       "    <tr>\n",
       "      <th>6</th>\n",
       "      <td>b-face-7.jpg</td>\n",
       "      <td>Black</td>\n",
       "      <td>[#6c5043, #d9cec6, #d2a686, #1c1612, #ab7e65]</td>\n",
       "    </tr>\n",
       "    <tr>\n",
       "      <th>7</th>\n",
       "      <td>b-face-8.jpg</td>\n",
       "      <td>Black</td>\n",
       "      <td>[#b1b0a7, #8d5b32, #a6805d, #201914, #5f3d22]</td>\n",
       "    </tr>\n",
       "    <tr>\n",
       "      <th>8</th>\n",
       "      <td>b-face-9.jpg</td>\n",
       "      <td>Black</td>\n",
       "      <td>[#773e41, #d1a2c3, #5b281b, #100808, #a26c6c]</td>\n",
       "    </tr>\n",
       "    <tr>\n",
       "      <th>9</th>\n",
       "      <td>b-face-10.jpg</td>\n",
       "      <td>Black</td>\n",
       "      <td>[#baa48f, #6b4e42, #e8e6df, #27211d, #967865]</td>\n",
       "    </tr>\n",
       "  </tbody>\n",
       "</table>\n",
       "</div>"
      ],
      "text/plain": [
       "            name ethnicity                                dominant_colors\n",
       "0   b-face-1.jpg     Black  [#1f1819, #795437, #a8896e, #dc2c2a, #4e5363]\n",
       "1   b-face-2.jpg     Black  [#323c41, #ad917d, #8c6446, #643922, #12181b]\n",
       "2   b-face-3.jpg     Black  [#482f26, #fcfcfc, #9e776d, #764a3a, #1b1513]\n",
       "3   b-face-4.jpg     Black  [#795648, #d8a07b, #f7f4f5, #372d2d, #b67d5c]\n",
       "4   b-face-5.jpg     Black  [#120d0b, #ad6849, #d1896b, #7a452d, #efad90]\n",
       "5   b-face-6.jpg     Black  [#543d3a, #171316, #bed0da, #6c6163, #332628]\n",
       "6   b-face-7.jpg     Black  [#6c5043, #d9cec6, #d2a686, #1c1612, #ab7e65]\n",
       "7   b-face-8.jpg     Black  [#b1b0a7, #8d5b32, #a6805d, #201914, #5f3d22]\n",
       "8   b-face-9.jpg     Black  [#773e41, #d1a2c3, #5b281b, #100808, #a26c6c]\n",
       "9  b-face-10.jpg     Black  [#baa48f, #6b4e42, #e8e6df, #27211d, #967865]"
      ]
     },
     "execution_count": 63,
     "metadata": {},
     "output_type": "execute_result"
    }
   ],
   "source": [
    "df.head(n=10)"
   ]
  },
  {
   "cell_type": "code",
   "execution_count": 64,
   "id": "6abd3a48",
   "metadata": {},
   "outputs": [],
   "source": [
    "from matplotlib import pyplot as plt"
   ]
  },
  {
   "cell_type": "code",
   "execution_count": 65,
   "id": "362f7141",
   "metadata": {},
   "outputs": [],
   "source": [
    "face_by_ethnicity = df.groupby('ethnicity')['name'].count()"
   ]
  },
  {
   "cell_type": "code",
   "execution_count": 66,
   "id": "7a0da455",
   "metadata": {},
   "outputs": [
    {
     "data": {
      "image/png": "[encoded data removed]",
      "text/plain": [
       "<Figure size 1000x600 with 1 Axes>"
      ]
     },
     "metadata": {},
     "output_type": "display_data"
    }
   ],
   "source": [
    "plt.figure(figsize=(10, 6))\n",
    "\n",
    "ax = face_by_ethnicity.plot(kind='bar', color='lightgreen', edgecolor='black')\n",
    "\n",
    "plt.title('Number of faces by ethnicity')\n",
    "\n",
    "plt.xlabel('Ethnicity')\n",
    "plt.ylabel('Number of faces')\n",
    "\n",
    "plt.xticks(rotation=70)\n",
    "plt.grid(axis='y', linestyle='--', alpha=0.7)\n",
    "\n",
    "params = {'ha': 'center', 'va': 'center'}\n",
    "\n",
    "plt.tight_layout()\n",
    "plt.show()"
   ]
  },
  {
   "cell_type": "code",
   "execution_count": 67,
   "id": "c19a9a53",
   "metadata": {},
   "outputs": [],
   "source": [
    "df.to_json('data_infos.json', orient='records')"
   ]
  },
  {
   "cell_type": "markdown",
   "id": "de0321c3",
   "metadata": {},
   "source": [
    "Zip the final file that will be saved on GitHub"
   ]
  },
  {
   "cell_type": "code",
   "execution_count": 68,
   "id": "6b411d33",
   "metadata": {},
   "outputs": [
    {
     "data": {
      "text/plain": [
       "'d:\\\\personnal\\\\datasets\\\\faces\\\\faces.zip'"
      ]
     },
     "execution_count": 68,
     "metadata": {},
     "output_type": "execute_result"
    }
   ],
   "source": [
    "shutil.make_archive('faces', 'zip', root_dir=temp_destination_folder)"
   ]
  }
 ],
 "metadata": {
  "kernelspec": {
   "display_name": "Python 3",
   "language": "python",
   "name": "python3"
  },
  "language_info": {
   "codemirror_mode": {
    "name": "ipython",
    "version": 3
   },
   "file_extension": ".py",
   "mimetype": "text/x-python",
   "name": "python",
   "nbconvert_exporter": "python",
   "pygments_lexer": "ipython3",
   "version": "3.13.1"
  }
 },
 "nbformat": 4,
 "nbformat_minor": 5
}
