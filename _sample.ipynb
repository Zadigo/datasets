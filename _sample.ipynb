# Change or convert CSV column headers
expected = {'contact', 'genre', 'téléphone'}
incoming = {'Contact', 'genre'}

result = incoming.difference(expected)
converter = {'Contact': 'contact', 'genre': 'genre'}

clean = {converter.get(item, item).lower() for item in incoming}

diff = clean.symmetric_difference(expected)
clean.union(diff)
