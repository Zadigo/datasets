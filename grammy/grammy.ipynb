{
 "cells": [
  {
   "cell_type": "code",
   "execution_count": 22,
   "metadata": {},
   "outputs": [],
   "source": [
    "import pandas\n",
    "import re"
   ]
  },
  {
   "cell_type": "code",
   "execution_count": 23,
   "metadata": {},
   "outputs": [],
   "source": [
    "df = pandas.read_json('./media/grammy/grammy_winners.json')"
   ]
  },
  {
   "cell_type": "code",
   "execution_count": 24,
   "metadata": {},
   "outputs": [
    {
     "data": {
      "text/html": [
       "<div>\n",
       "<style scoped>\n",
       "    .dataframe tbody tr th:only-of-type {\n",
       "        vertical-align: middle;\n",
       "    }\n",
       "\n",
       "    .dataframe tbody tr th {\n",
       "        vertical-align: top;\n",
       "    }\n",
       "\n",
       "    .dataframe thead th {\n",
       "        text-align: right;\n",
       "    }\n",
       "</style>\n",
       "<table border=\"1\" class=\"dataframe\">\n",
       "  <thead>\n",
       "    <tr style=\"text-align: right;\">\n",
       "      <th></th>\n",
       "      <th>year</th>\n",
       "      <th>subtitle</th>\n",
       "      <th>category</th>\n",
       "      <th>artist</th>\n",
       "      <th>song_or_album</th>\n",
       "      <th>url</th>\n",
       "      <th>winner</th>\n",
       "    </tr>\n",
       "  </thead>\n",
       "  <tbody>\n",
       "    <tr>\n",
       "      <th>0</th>\n",
       "      <td>1977</td>\n",
       "      <td>20Th Annual Grammy Awards</td>\n",
       "      <td>Record Of The Year</td>\n",
       "      <td>Eagles</td>\n",
       "      <td>Hotel California</td>\n",
       "      <td>https://www.grammy.com/awards/20th-annual-gram...</td>\n",
       "      <td>True</td>\n",
       "    </tr>\n",
       "    <tr>\n",
       "      <th>1</th>\n",
       "      <td>1977</td>\n",
       "      <td>20Th Annual Grammy Awards</td>\n",
       "      <td>Record Of The Year</td>\n",
       "      <td>Joe Brooks, producer</td>\n",
       "      <td>You Light Up My Life (Single)</td>\n",
       "      <td>https://www.grammy.com/awards/20th-annual-gram...</td>\n",
       "      <td>False</td>\n",
       "    </tr>\n",
       "  </tbody>\n",
       "</table>\n",
       "</div>"
      ],
      "text/plain": [
       "   year                   subtitle            category                artist  \\\n",
       "0  1977  20Th Annual Grammy Awards  Record Of The Year                Eagles   \n",
       "1  1977  20Th Annual Grammy Awards  Record Of The Year  Joe Brooks, producer   \n",
       "\n",
       "                   song_or_album  \\\n",
       "0               Hotel California   \n",
       "1  You Light Up My Life (Single)   \n",
       "\n",
       "                                                 url  winner  \n",
       "0  https://www.grammy.com/awards/20th-annual-gram...    True  \n",
       "1  https://www.grammy.com/awards/20th-annual-gram...   False  "
      ]
     },
     "execution_count": 24,
     "metadata": {},
     "output_type": "execute_result"
    }
   ],
   "source": [
    "df.head(n=2)"
   ]
  },
  {
   "cell_type": "code",
   "execution_count": 25,
   "metadata": {},
   "outputs": [],
   "source": [
    "# def check_string(value: str | None):\n",
    "#     if value:\n",
    "#         value = value.replace('\\\\\"', '')\n",
    "#         value = ' '.join(map(lambda x: x.strip(), value.split(' ')))\n",
    "#         return value.strip()\n",
    "#     return value\n",
    "\n",
    "# df['song_or_album'] = df.artist.map(check_string)"
   ]
  },
  {
   "cell_type": "code",
   "execution_count": 26,
   "metadata": {},
   "outputs": [],
   "source": [
    "# edition_to_correct = df[df.year == 67]\n",
    "# for item in edition_to_correct.itertuples():\n",
    "#     df.loc[item.Index, 'year'] = 2024\n",
    "\n",
    "# edition_to_correct = df[df.year == 66]\n",
    "# for item in edition_to_correct.itertuples():\n",
    "#     df.loc[item.Index, 'year'] = 2023\n",
    "\n",
    "# edition_to_correct = df[df.year == 65]\n",
    "# for item in edition_to_correct.itertuples():\n",
    "#     df.loc[item.Index, 'year'] = 2022"
   ]
  },
  {
   "cell_type": "code",
   "execution_count": 27,
   "metadata": {},
   "outputs": [],
   "source": [
    "def annual_edition(value: str | None):\n",
    "    if value:\n",
    "        result = re.match(r'\\d+', value)\n",
    "        if result:\n",
    "            return result.group()\n",
    "    return value\n",
    "\n",
    "\n",
    "df['annual_edition'] = df.subtitle.map(annual_edition)"
   ]
  },
  {
   "cell_type": "code",
   "execution_count": 8,
   "metadata": {},
   "outputs": [],
   "source": [
    "df_to_print = df[['year', 'annual_edition', 'category', 'artist', 'song_or_album', 'winner', 'url']]"
   ]
  },
  {
   "cell_type": "code",
   "execution_count": 9,
   "metadata": {},
   "outputs": [],
   "source": [
    "df_to_print = df_to_print.sort_values('year', ascending=False)"
   ]
  },
  {
   "cell_type": "code",
   "execution_count": 10,
   "metadata": {},
   "outputs": [],
   "source": [
    "df_to_print.to_csv('grammy_winners.csv', index=False)"
   ]
  },
  {
   "cell_type": "code",
   "execution_count": 32,
   "metadata": {},
   "outputs": [],
   "source": [
    "empty_artists = df.loc[(df.artist != '') & (df.song_or_album != ''), ['category', 'artist', 'year', 'url']]"
   ]
  },
  {
   "cell_type": "code",
   "execution_count": 33,
   "metadata": {},
   "outputs": [],
   "source": [
    "empty_artists.to_csv('empty_grammy_winners.csv')"
   ]
  },
  {
   "cell_type": "code",
   "execution_count": 20,
   "metadata": {},
   "outputs": [],
   "source": [
    "empty_artists.drop_duplicates(['url'])[['url']].to_csv('empty_data_urls.csv', index=False)"
   ]
  }
 ],
 "metadata": {
  "kernelspec": {
   "display_name": "Python 3",
   "language": "python",
   "name": "python3"
  },
  "language_info": {
   "codemirror_mode": {
    "name": "ipython",
    "version": 3
   },
   "file_extension": ".py",
   "mimetype": "text/x-python",
   "name": "python",
   "nbconvert_exporter": "python",
   "pygments_lexer": "ipython3",
   "version": "3.13.1"
  }
 },
 "nbformat": 4,
 "nbformat_minor": 2
}
